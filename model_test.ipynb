{
 "cells": [
  {
   "cell_type": "code",
   "execution_count": null,
   "id": "ca0aef81",
   "metadata": {},
   "outputs": [],
   "source": [
    "import numpy as np\n",
    "import pandas as pd\n",
    "from sklearn.ensemble import RandomForestRegressor\n",
    "from sklearn.model_selection import train_test_split\n",
    "import shap"
   ]
  },
  {
   "cell_type": "code",
   "execution_count": null,
   "id": "c9cfedb6",
   "metadata": {},
   "outputs": [],
   "source": [
    "# Data project Simulation\n",
    "np.random.seed(42)\n",
    "\n",
    "def generate_project_data(n_samples=1000):\n",
    "    data = []\n",
    "    for _ in range(n_samples):\n",
    "        # Simulasi durasi masing-masing task\n",
    "        task_a = np.random.normal(10, 2)  # Task A, rata-rata 10 hari\n",
    "        task_b = np.random.normal(20, 5)  # Task B, rata-rata 20 hari\n",
    "        task_c = np.random.normal(15, 3)  # Task C, rata-rata 15 hari\n",
    "        delay = np.random.uniform(0, 0.2)  # Delay random antara 0% - 20%\n",
    "        \n",
    "        # Total durasi proyek\n",
    "        total_duration = (task_a + task_b + task_c) * (1 + delay)\n",
    "        \n",
    "        data.append([task_a, task_b, task_c, delay, total_duration])\n",
    "    \n",
    "    columns = ['Task_A_Duration', 'Task_B_Duration', 'Task_C_Duration', 'Delay_Percentage', 'Total_Project_Duration']\n",
    "    return pd.DataFrame(data, columns=columns)\n",
    "\n",
    "df = generate_project_data()\n",
    "print(df.head())"
   ]
  },
  {
   "cell_type": "code",
   "execution_count": null,
   "id": "08c609f8",
   "metadata": {},
   "outputs": [],
   "source": [
    "# Machine Learning Model\n",
    "\n",
    "X = df[['Task_A_Duration', 'Task_B_Duration', 'Task_C_Duration', 'Delay_Percentage']]\n",
    "y = df['Total_Project_Duration']\n",
    "\n",
    "X_train, X_test, y_train, y_test = train_test_split(X, y, test_size=0.2, random_state=42)\n",
    "\n",
    "model = RandomForestRegressor()\n",
    "model.fit(X_train, y_train)\n",
    "\n",
    "print(f\"Training Score: {model.score(X_train, y_train):.2f}\")\n",
    "print(f\"Testing Score: {model.score(X_test, y_test):.2f}\")\n"
   ]
  },
  {
   "cell_type": "code",
   "execution_count": null,
   "id": "a8e9f893",
   "metadata": {},
   "outputs": [],
   "source": [
    "# SHAP Explainer\n",
    "\n",
    "explainer = shap.TreeExplainer(model)\n",
    "shap_values = explainer.shap_values(X_test)\n",
    "\n",
    "# Plot SHAP summary\n",
    "shap.summary_plot(shap_values, X_test)"
   ]
  }
 ],
 "metadata": {
  "kernelspec": {
   "display_name": "Python 3",
   "language": "python",
   "name": "python3"
  },
  "language_info": {
   "codemirror_mode": {
    "name": "ipython",
    "version": 3
   },
   "file_extension": ".py",
   "mimetype": "text/x-python",
   "name": "python",
   "nbconvert_exporter": "python",
   "pygments_lexer": "ipython3",
   "version": "3.13.3"
  }
 },
 "nbformat": 4,
 "nbformat_minor": 5
}
